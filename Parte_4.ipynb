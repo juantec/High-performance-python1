{
  "nbformat": 4,
  "nbformat_minor": 0,
  "metadata": {
    "colab": {
      "provenance": []
    },
    "kernelspec": {
      "name": "python3",
      "display_name": "Python 3"
    },
    "language_info": {
      "name": "python"
    }
  },
  "cells": [
    {
      "cell_type": "markdown",
      "source": [
        "##Exercise 14\n",
        " Read Rewriting the particle simulator in Numpy on Chapter 2: Fast Array Operations\n",
        "with Numpy and Pandas (pp. 68) from the book G. Lenaro (2017). Python high\n",
        "Performance. Second Edition. UK: Packt Publishing Ltd. Implement the\n",
        "improvements on the particle simulator using NumPy. Show that both\n",
        "implementations scale linearly with particle size, but the runtime in the pure Python\n",
        "version grows much faster than the NumPy version."
      ],
      "metadata": {
        "id": "rOJVt62H3Yiq"
      }
    },
    {
      "cell_type": "code",
      "source": [
        "class Particle:\n",
        "    def __init__(self, x, y, ang_vel):\n",
        "        self.x = x\n",
        "        self.y = y\n",
        "        self.ang_vel = ang_vel\n",
        "\n",
        "class ParticleSimulator:\n",
        "    def evolve_python(self, particles, dt):\n",
        "        timestep = 0.00001\n",
        "        nsteps = int(dt / timestep)\n",
        "\n",
        "        for _ in range(nsteps):\n",
        "            for p in particles:\n",
        "                norm = (p.x ** 2 + p.y ** 2) ** 0.5\n",
        "                v_x = -p.y / norm\n",
        "                v_y = p.x / norm\n",
        "\n",
        "                d_x = timestep * p.ang_vel * v_x\n",
        "                d_y = timestep * p.ang_vel * v_y\n",
        "\n",
        "                p.x += d_x\n",
        "                p.y += d_y\n"
      ],
      "metadata": {
        "id": "um3XR1XQtKrI"
      },
      "execution_count": 1,
      "outputs": []
    },
    {
      "cell_type": "code",
      "source": [
        "import numpy as np\n",
        "\n",
        "class ParticleSimulatorNumPy:\n",
        "    def evolve_numpy(self, particles, dt):\n",
        "        timestep = 0.00001\n",
        "        nsteps = int(dt / timestep)\n",
        "\n",
        "        # Convert particle attributes to NumPy arrays\n",
        "        pos = np.array([[p.x, p.y] for p in particles])\n",
        "        ang_vel = np.array([p.ang_vel for p in particles])\n",
        "\n",
        "        for _ in range(nsteps):\n",
        "            norm = np.linalg.norm(pos, axis=1)\n",
        "            v = pos[:, [1, 0]]  # Swap x and y\n",
        "            v[:, 0] *= -1  # Change sign of x\n",
        "            v /= norm[:, np.newaxis]  # Normalize\n",
        "\n",
        "            d_pos = timestep * ang_vel[:, np.newaxis] * v\n",
        "            pos += d_pos\n",
        "\n",
        "        # Update original particle objects\n",
        "        for i, p in enumerate(particles):\n",
        "            p.x, p.y = pos[i]\n"
      ],
      "metadata": {
        "id": "gu1eTVantO77"
      },
      "execution_count": 2,
      "outputs": []
    },
    {
      "cell_type": "code",
      "source": [
        "from timeit import timeit\n",
        "from random import uniform\n",
        "\n",
        "def benchmark(n_particles, evolve_function):\n",
        "    particles = [Particle(uniform(-1.0, 1.0), uniform(-1.0, 1.0), uniform(-1.0, 1.0)) for _ in range(n_particles)]\n",
        "\n",
        "    if evolve_function == 'python':\n",
        "        sim = ParticleSimulator()\n",
        "        return timeit('sim.evolve_python(particles, 0.1)', globals=locals(), number=1)\n",
        "    elif evolve_function == 'numpy':\n",
        "        sim = ParticleSimulatorNumPy()\n",
        "        return timeit('sim.evolve_numpy(particles, 0.1)', globals=locals(), number=1)\n"
      ],
      "metadata": {
        "id": "4I1OmDw6tRtQ"
      },
      "execution_count": 3,
      "outputs": []
    },
    {
      "cell_type": "code",
      "source": [
        "import matplotlib.pyplot as plt\n",
        "\n",
        "n_particles = [100, 500, 1000, 2500, 5000]\n",
        "times_python = [benchmark(n, 'python') for n in n_particles]\n",
        "times_numpy = [benchmark(n, 'numpy') for n in n_particles]\n",
        "\n",
        "plt.plot(n_particles, times_python, label='Pure Python')\n",
        "plt.plot(n_particles, times_numpy, label='NumPy')\n",
        "plt.xlabel('Number of particles')\n",
        "plt.ylabel('Execution time (s)')\n",
        "plt.legend()\n",
        "plt.show()\n"
      ],
      "metadata": {
        "colab": {
          "base_uri": "https://localhost:8080/",
          "height": 449
        },
        "id": "1G-c9Am9tUSx",
        "outputId": "00001acd-178d-43cc-e749-fbce75e1a98b"
      },
      "execution_count": 4,
      "outputs": [
        {
          "output_type": "display_data",
          "data": {
            "text/plain": [
              "<Figure size 640x480 with 1 Axes>"
            ],
            "image/png": "[encoded data removed]"
          },
          "metadata": {}
        }
      ]
    },
    {
      "cell_type": "markdown",
      "source": [
        "Observe that both implementations scale linearly with the number of particles. However, the execution time for the pure Python version should grow significantly faster than the NumPy version, especially as the number of particles increases. This demonstrates the efficiency gained by leveraging NumPy's optimized array operations."
      ],
      "metadata": {
        "id": "7F8k2IWJ9GfP"
      }
    },
    {
      "cell_type": "markdown",
      "source": [
        "##Exercise 15\n",
        " Explain how to optain the optimal performance with numexpr. Read the section\n",
        "Reaching optimal performance with numexpr, pp. 72 from the image uploaded.\n",
        "Implement it and measure the execution time.\n"
      ],
      "metadata": {
        "id": "rzHWdbOO8Xrw"
      }
    },
    {
      "cell_type": "code",
      "source": [
        "import numpy as np\n",
        "import numexpr as ne\n"
      ],
      "metadata": {
        "id": "mdJybEqpv-6J"
      },
      "execution_count": 5,
      "outputs": []
    },
    {
      "cell_type": "code",
      "source": [
        "a = np.random.rand(10000)\n",
        "b = np.random.rand(10000)\n",
        "c = np.random.rand(10000)\n"
      ],
      "metadata": {
        "id": "45pwfyrAwBng"
      },
      "execution_count": 6,
      "outputs": []
    },
    {
      "cell_type": "code",
      "source": [
        "d = ne.evaluate('a + b * c')\n"
      ],
      "metadata": {
        "id": "RyPFb3ajwFmi"
      },
      "execution_count": 7,
      "outputs": []
    },
    {
      "cell_type": "code",
      "source": [
        "r = np.random.rand(10000, 2)\n",
        "r_i = r[:, np.newaxis, :]\n",
        "r_j = r[np.newaxis, :, :]\n"
      ],
      "metadata": {
        "id": "RrJOwoqXwISB"
      },
      "execution_count": 8,
      "outputs": []
    },
    {
      "cell_type": "code",
      "source": [
        "d_ij = r_j - r_i\n",
        "\n"
      ],
      "metadata": {
        "id": "ZVQmf8vUwK-a"
      },
      "execution_count": 9,
      "outputs": []
    },
    {
      "cell_type": "markdown",
      "source": [
        "Numexpr is a Python package that allows you to evaluate array expressions elementwise by using a fast and memory-efficient algorithm. When you perform operations with NumPy, temporary arrays may be created to hold intermediate results. For large arrays, these temporary arrays can lead to significant memory use and can cause cache to thrash. Numexpr optimizes the operation by breaking it into chunks that fit into the cache, which can speed up execution significantly, especially for large arrays."
      ],
      "metadata": {
        "id": "WH7lVFNE8vkZ"
      }
    }
  ]
}