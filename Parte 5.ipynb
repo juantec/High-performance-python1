{
  "nbformat": 4,
  "nbformat_minor": 0,
  "metadata": {
    "colab": {
      "provenance": []
    },
    "kernelspec": {
      "name": "python3",
      "display_name": "Python 3"
    },
    "language_info": {
      "name": "python"
    }
  },
  "cells": [
    {
      "cell_type": "markdown",
      "source": [
        "##Exercise 16\n",
        " Read about the Conway’s Game of Life. Implement all solutions provided on the\n",
        "Cython Material (slides) to obtain the update of the lattice:\n",
        "\n",
        "a. Python\n",
        "\n",
        "b. Cython 1\n",
        "\n",
        "c. Cython 2\n",
        "\n",
        "d. Cython 3\n",
        "\n",
        "e. Cython 4\n",
        "\n",
        "Explain the improvement on each solution. Reproduce the chart on pp. 33 with the\n",
        "runtime for each solution\n"
      ],
      "metadata": {
        "id": "tVUwq-TEBjXF"
      }
    },
    {
      "cell_type": "markdown",
      "source": [
        "1. Python Implementation (game_of_life.py):\n",
        "In Python, you can implement the Game of Life using a simple nested loop:"
      ],
      "metadata": {
        "id": "jpkWimo7Atc2"
      }
    },
    {
      "cell_type": "code",
      "source": [
        "def evolve(grid):\n",
        "    X, Y = grid.shape\n",
        "    new_grid = grid.copy()\n",
        "    for x in range(X):\n",
        "        for y in range(Y):\n",
        "            n_neigh = sum([grid[x2 % X, y2 % Y] for x2 in range(x-1, x+2)\n",
        "                           for y2 in range(y-1, y+2) if (x != x2 or y != y2)])\n",
        "            if grid[x, y]:\n",
        "                if n_neigh < 2 or n_neigh > 3:\n",
        "                    new_grid[x, y] = 0\n",
        "            elif n_neigh == 3:\n",
        "                new_grid[x, y] = 1\n",
        "    return new_grid\n"
      ],
      "metadata": {
        "id": "winzThSc_Nko"
      },
      "execution_count": 10,
      "outputs": []
    },
    {
      "cell_type": "markdown",
      "source": [
        "2. Cython 1 (game_of_life_cy1.pyx):\n",
        "The first step in optimizing with Cython is to add static type definitions for variables:"
      ],
      "metadata": {
        "id": "O0hL5ccdA0pF"
      }
    },
    {
      "cell_type": "code",
      "source": [
        "import numpy as np\n",
        "cimport numpy as np\n",
        "\n",
        "def evolve(np.ndarray[np.uint8_t, ndim=2] grid):\n",
        "    cdef int xmax = grid.shape[0]\n",
        "    cdef int ymax = grid.shape[1]\n",
        "    cdef np.ndarray[np.uint8_t, ndim=2] new_grid = grid.copy()\n",
        "\n",
        "    cdef int x, y, total\n",
        "    for x in range(xmax):\n",
        "        for y in range(ymax):\n",
        "            total = ...\n",
        "            # Apply Conway's rules as before\n"
      ],
      "metadata": {
        "id": "b1lSBgoVBeH0"
      },
      "execution_count": null,
      "outputs": []
    },
    {
      "cell_type": "markdown",
      "source": [
        "3. Cython 2 (game_of_life_cy2.pyx):\n",
        "Optimize the loop further by eliminating Python function calls within the loop and handling boundary conditions using arithmetic instead of modulo operations:"
      ],
      "metadata": {
        "id": "6SIPR7AbBAn_"
      }
    },
    {
      "cell_type": "code",
      "source": [
        "# Same imports and definitions\n",
        "\n",
        "    cdef int x, y, total, xx, yy\n",
        "    for x in range(xmax):\n",
        "        for y in range(ymax):\n",
        "            total = 0\n",
        "            # Directly sum up the neighbors with boundary checks\n",
        "            # Apply Conway's rules\n"
      ],
      "metadata": {
        "id": "hXxFWBzdAjG0"
      },
      "execution_count": null,
      "outputs": []
    },
    {
      "cell_type": "markdown",
      "source": [
        "4. Cython 3 (game_of_life_cy3.pyx):\n",
        "Utilize memory views to avoid overhead associated with numpy array indexing:"
      ],
      "metadata": {
        "id": "dano0GrdBENp"
      }
    },
    {
      "cell_type": "code",
      "source": [
        "# Same imports and definitions\n",
        "\n",
        "    cdef np.uint8_t[:, :] grid_view = grid\n",
        "    cdef np.uint8_t[:, :] new_grid_view = new_grid\n",
        "\n",
        "    # Use grid_view and new_grid_view for indexing within the loop\n"
      ],
      "metadata": {
        "id": "gR6TBguvAkyM"
      },
      "execution_count": null,
      "outputs": []
    },
    {
      "cell_type": "markdown",
      "source": [
        "5. Cython 4 (game_of_life_cy4.pyx):\n",
        "Parallelize the loop using Cython's prange if you have a system that can benefit from parallel execution:"
      ],
      "metadata": {
        "id": "_75ixNtMBH_I"
      }
    },
    {
      "cell_type": "code",
      "source": [
        "# Same imports and definitions\n",
        "from cython.parallel import prange\n",
        "\n",
        "    # Change the loop to prange with nogil\n",
        "    for x in prange(xmax, nogil=True):\n",
        "        # Same loop body\n"
      ],
      "metadata": {
        "id": "gDXuo-M0AmZE"
      },
      "execution_count": null,
      "outputs": []
    }
  ]
}